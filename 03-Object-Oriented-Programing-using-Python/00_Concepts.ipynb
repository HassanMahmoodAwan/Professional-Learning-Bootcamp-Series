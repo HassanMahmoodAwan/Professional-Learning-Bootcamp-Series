{
 "cells": [
  {
   "cell_type": "markdown",
   "metadata": {},
   "source": [
    "## Difference Between Procedural Programing and Object Oriented Programing?\n",
    "\n",
    "### Procedural Programing\n",
    "<p>Step-By-Step (Sequential way) and Deal with one person at a Time.</p> \n",
    "\n",
    "### OOP Programing\n",
    "<p>Deal with Bunch of Objects belongs to Same class like city Traffic Planner.</p>\n",
    "\n",
    "> Make a class, generic for each Object. Can have there own instance of that class. "
   ]
  },
  {
   "cell_type": "code",
   "execution_count": null,
   "metadata": {
    "vscode": {
     "languageId": "plaintext"
    }
   },
   "outputs": [],
   "source": []
  },
  {
   "cell_type": "code",
   "execution_count": null,
   "metadata": {
    "vscode": {
     "languageId": "plaintext"
    }
   },
   "outputs": [],
   "source": []
  }
 ],
 "metadata": {
  "language_info": {
   "name": "python"
  }
 },
 "nbformat": 4,
 "nbformat_minor": 2
}
